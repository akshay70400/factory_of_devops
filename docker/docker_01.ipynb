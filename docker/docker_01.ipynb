{
 "cells": [
  {
   "cell_type": "code",
   "execution_count": null,
   "id": "bcdfd5dd-dbbc-4542-98c8-7feb23681875",
   "metadata": {},
   "outputs": [],
   "source": []
  },
  {
   "cell_type": "code",
   "execution_count": null,
   "id": "a3a26db6-e5ce-4613-90df-f825b3ada3fd",
   "metadata": {},
   "outputs": [],
   "source": []
  },
  {
   "cell_type": "markdown",
   "id": "7b77ac30-1dde-4025-af27-b6b664a6e537",
   "metadata": {},
   "source": [
    "# <mark> Examples"
   ]
  },
  {
   "cell_type": "raw",
   "id": "498dad53-cefc-4edc-a92d-99932168cc31",
   "metadata": {},
   "source": [
    "# syntax=docker/dockerfile:1.4\n",
    "FROM --platform=$BUILDPLATFORM python:3.10-alpine AS builder\n",
    "\n",
    "WORKDIR /code\n",
    "\n",
    "COPY requirements.txt /code\n",
    "RUN --mount=type=cache,target=/root/.cache/pip \\\n",
    "    pip3 install -r requirements.txt\n",
    "\n",
    "COPY . /code\n",
    "\n",
    "ENTRYPOINT [\"python3\"]\n",
    "CMD [\"app.py\"]\n",
    "\n",
    "FROM builder as dev-envs\n",
    "\n",
    "RUN <<EOF\n",
    "apk update\n",
    "apk add git bash\n",
    "EOF\n",
    "\n",
    "RUN <<EOF\n",
    "addgroup -S docker\n",
    "adduser -S --shell /bin/bash --ingroup docker vscode\n",
    "EOF\n",
    "# install Docker tools (cli, buildx, compose)\n",
    "COPY --from=gloursdocker/docker / /"
   ]
  }
 ],
 "metadata": {
  "kernelspec": {
   "display_name": "Python 3 (ipykernel)",
   "language": "python",
   "name": "python3"
  },
  "language_info": {
   "codemirror_mode": {
    "name": "ipython",
    "version": 3
   },
   "file_extension": ".py",
   "mimetype": "text/x-python",
   "name": "python",
   "nbconvert_exporter": "python",
   "pygments_lexer": "ipython3",
   "version": "3.9.13"
  }
 },
 "nbformat": 4,
 "nbformat_minor": 5
}
